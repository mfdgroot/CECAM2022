{
 "cells": [
  {
   "cell_type": "code",
   "execution_count": 15,
   "id": "7ba1d2bb-fec3-4e0b-847a-6f2cb821021a",
   "metadata": {},
   "outputs": [],
   "source": [
    "import pyscf\n",
    "from pyscf import mcscf\n",
    "import scipy.sparse\n",
    "import openfermion as of\n",
    "import numpy as np\n",
    "from openfermionpyscf._run_pyscf import run_pyscf\n",
    "from force_utility import gradient_mo_operator"
   ]
  },
  {
   "cell_type": "code",
   "execution_count": 2,
   "id": "0b1c6cf2-2729-4fda-bb5d-fe703fe13b0a",
   "metadata": {},
   "outputs": [],
   "source": [
    "def get_lih(positions, basis):\n",
    "    atom = [['Li', tuple(positions[0:3])], ['H', tuple(positions[3:6])]]\n",
    "    moldata = of.MolecularData(geometry=atom, basis=basis, charge=0, multiplicity=1)\n",
    "    moldata = run_pyscf(moldata)\n",
    "    return moldata\n",
    "\n",
    "def get_hf_fd(positions, d, basis, occupied=None, active=None):\n",
    "    f = []\n",
    "    for idx in range(len(positions)):\n",
    "        cd = positions.copy()\n",
    "        cd[idx] += d\n",
    "        hfwd = of.transforms.jordan_wigner(get_lih(cd, basis).get_molecular_hamiltonian(occupied_indices=occupied,active_indices=active))\n",
    "        cd[idx] -= 2*d\n",
    "        hbwd = of.transforms.jordan_wigner(get_lih(cd, basis).get_molecular_hamiltonian(occupied_indices=occupied,active_indices=active))\n",
    "        f.append((hfwd-hbwd)/(2*delta))\n",
    "    return f"
   ]
  },
  {
   "cell_type": "markdown",
   "id": "76556c76-1e12-4a49-9c48-88ed41f8d014",
   "metadata": {
    "tags": []
   },
   "source": [
    "# The Hellman-Feynman force operator\n",
    "The Hellman-Feynman can be found as the derivative of the Hamiltonian matrix elements with respect to the position. We will use the example of $LiH$ and obtain the operator through finite differences and analytical derivation. "
   ]
  },
  {
   "cell_type": "code",
   "execution_count": 3,
   "id": "f7fce8ec-17de-400e-a5b7-190e4d3ceab0",
   "metadata": {},
   "outputs": [
    {
     "name": "stdout",
     "output_type": "stream",
     "text": [
      "FCI energy is -7.878453652277157\n"
     ]
    }
   ],
   "source": [
    "coords = [0, 0, 0, 0, 0, 1.4]\n",
    "#coords = [0, 0, 0, 0, 1.4, 1.4]/np.sqrt(2)\n",
    "delta = 1e-5\n",
    "occ = None\n",
    "act= None\n",
    "mol = get_lih(coords,'sto-3g')\n",
    "h = of.transforms.jordan_wigner(mol.get_molecular_hamiltonian(occupied_indices=occ,active_indices=act))\n",
    "eig, eigv = scipy.sparse.linalg.eigsh(of.get_sparse_operator(h), k=1, which='SA') \n",
    "f = get_hf_fd(coords, delta, 'sto-3g', occupied=occ, active=act)\n",
    "print(\"FCI energy is {}\".format(eig[0]))"
   ]
  },
  {
   "cell_type": "markdown",
   "id": "7e722eaa-6def-459c-88cd-7127e3431487",
   "metadata": {},
   "source": [
    "What can you tell about the difference between the number of terms in the Hamiltonian and forces? How many Pauli-words do they have in common? What does that mean for the measurements?"
   ]
  },
  {
   "cell_type": "code",
   "execution_count": 4,
   "id": "6915df87-711d-4b02-b6b9-e42aff58946c",
   "metadata": {},
   "outputs": [
    {
     "name": "stdout",
     "output_type": "stream",
     "text": [
      "Number of pauli-words in the hamiltonian: 631\n",
      "Number of pauli-words in the force: 0\n",
      "Number of pauli-words in common with hamiltonian 0\n",
      "Number of pauli-words in the force: 0\n",
      "Number of pauli-words in common with hamiltonian 0\n",
      "Number of pauli-words in the force: 467\n",
      "Number of pauli-words in common with hamiltonian 467\n",
      "Number of pauli-words in the force: 0\n",
      "Number of pauli-words in common with hamiltonian 0\n",
      "Number of pauli-words in the force: 0\n",
      "Number of pauli-words in common with hamiltonian 0\n",
      "Number of pauli-words in the force: 467\n",
      "Number of pauli-words in common with hamiltonian 467\n"
     ]
    }
   ],
   "source": [
    "print(\"Number of pauli-words in the hamiltonian: {}\".format(len(h.terms)))\n",
    "for force in f:\n",
    "    print(\"Number of pauli-words in the force: {}\".format(len(force.terms)))\n",
    "    common = 0\n",
    "    for key in force.terms.keys():\n",
    "        if key in h.terms.keys():\n",
    "            common += 1\n",
    "    print(\"Number of pauli-words in common with hamiltonian {}\".format(common))"
   ]
  },
  {
   "cell_type": "markdown",
   "id": "fa4dc8bf-b831-4a48-92ad-abe1931c43a1",
   "metadata": {},
   "source": [
    "We can now evaluate this operator with respect to the FCI state. What do you expect for the values of the forces? Will they be equal of different for the different atoms? What with the acceleration?"
   ]
  },
  {
   "cell_type": "code",
   "execution_count": 5,
   "id": "15c5e58a-58a8-4720-8e9b-255b27055583",
   "metadata": {},
   "outputs": [
    {
     "name": "stdout",
     "output_type": "stream",
     "text": [
      "Hamiltonian expectation: (-7.878453652277166+0j), Hamiltonian eigenvalue: -7.878453652277157\n",
      "[0.0, 0.0, (0.06101320993655044-3.469446951953614e-18j), 0.0, 0.0, (-0.06101321009632643+0j)]\n"
     ]
    }
   ],
   "source": [
    "h_eval= of.expectation(of.get_sparse_operator(h), eigv)\n",
    "f_eval=[]\n",
    "for force in f:\n",
    "    if len(force.terms)==0:\n",
    "        f_eval.append(0.)\n",
    "    else:\n",
    "        f_eval.append(of.expectation(of.get_sparse_operator(force), eigv))\n",
    "print(\"Hamiltonian expectation: {}, Hamiltonian eigenvalue: {}\".format(h_eval,eig[0]))\n",
    "print(f_eval)\n",
    "f_eval = [val.real for val in f_eval]"
   ]
  },
  {
   "cell_type": "markdown",
   "id": "247f091a-88ac-487a-852a-363fb39975de",
   "metadata": {},
   "source": [
    "Rotate the geometry by 45 degrees and repeat the excercise. What do you see?"
   ]
  },
  {
   "cell_type": "markdown",
   "id": "84d03186-09fd-4530-a21b-d96a20b1181f",
   "metadata": {
    "tags": []
   },
   "source": [
    "# Force operators\n",
    "We will now evaluate the force operators through the analytical formulas both with and without Pulay terms."
   ]
  },
  {
   "cell_type": "code",
   "execution_count": 6,
   "id": "becc97e7-31a5-4232-a969-3486368105e6",
   "metadata": {},
   "outputs": [
    {
     "name": "stdout",
     "output_type": "stream",
     "text": [
      "converged SCF energy = -7.8605386610207\n"
     ]
    }
   ],
   "source": [
    "oei, tei = mol.get_integrals()\n",
    "mymol = pyscf.gto.Mole(atom=[['Li', tuple(coords[0:3])],\n",
    "                           ['H', tuple(coords[3:6])]],\n",
    "                     basis = 'sto-3g')\n",
    "mymol.build()\n",
    "mf = pyscf.scf.RHF(mymol)\n",
    "mf.kernel()\n",
    "f_op = gradient_mo_operator(mymol, mf.mo_coeff, oei, tei)\n",
    "f_op = [of.transforms.jordan_wigner(force) for force in f_op]\n",
    "f_op_hf = gradient_mo_operator(mymol, mf.mo_coeff, oei, tei, with_pulay=False)\n",
    "f_op_hf = [of.transforms.jordan_wigner(force) for force in f_op_hf]\n"
   ]
  },
  {
   "cell_type": "markdown",
   "id": "3c53c6ea-132f-416d-8245-103afc5b4261",
   "metadata": {},
   "source": [
    "We can repeat the same analysis as before to see which terms are shared with the Hamiltonian. What do you notice? What does this mean for the cost of evaluation?"
   ]
  },
  {
   "cell_type": "code",
   "execution_count": 7,
   "id": "c13af931-8c08-4f8d-b662-5e6b8dac5579",
   "metadata": {},
   "outputs": [
    {
     "name": "stdout",
     "output_type": "stream",
     "text": [
      "Number of pauli-words in the hamiltonian: 631\n",
      "Number of pauli-words in the force: 897\n",
      "Number of pauli-words in common with hamiltonian 1\n",
      "Number of pauli-words in the force: 897\n",
      "Number of pauli-words in common with hamiltonian 1\n",
      "Number of pauli-words in the force: 621\n",
      "Number of pauli-words in common with hamiltonian 621\n",
      "Number of pauli-words in the force: 897\n",
      "Number of pauli-words in common with hamiltonian 1\n",
      "Number of pauli-words in the force: 897\n",
      "Number of pauli-words in common with hamiltonian 1\n",
      "Number of pauli-words in the force: 621\n",
      "Number of pauli-words in common with hamiltonian 621\n"
     ]
    }
   ],
   "source": [
    "print(\"Number of pauli-words in the hamiltonian: {}\".format(len(h.terms)))\n",
    "for force in f_op_hf:\n",
    "    print(\"Number of pauli-words in the force: {}\".format(len(force.terms)))\n",
    "    common = 0\n",
    "    large = 0\n",
    "    for key in force.terms.keys():\n",
    "        if key in h.terms.keys():\n",
    "            common += 1\n",
    "    print(\"Number of pauli-words in common with hamiltonian {}\".format(common))"
   ]
  },
  {
   "cell_type": "code",
   "execution_count": 8,
   "id": "b1ad987b-ca34-48c9-b074-7e9d60af188a",
   "metadata": {},
   "outputs": [
    {
     "name": "stdout",
     "output_type": "stream",
     "text": [
      "Number of pauli-words in the hamiltonian: 631\n",
      "Number of pauli-words in the force: 897\n",
      "Number of pauli-words in common with hamiltonian 1\n",
      "Number of pauli-words in the force: 897\n",
      "Number of pauli-words in common with hamiltonian 1\n",
      "Number of pauli-words in the force: 621\n",
      "Number of pauli-words in common with hamiltonian 621\n",
      "Number of pauli-words in the force: 897\n",
      "Number of pauli-words in common with hamiltonian 1\n",
      "Number of pauli-words in the force: 897\n",
      "Number of pauli-words in common with hamiltonian 1\n",
      "Number of pauli-words in the force: 621\n",
      "Number of pauli-words in common with hamiltonian 621\n"
     ]
    }
   ],
   "source": [
    "print(\"Number of pauli-words in the hamiltonian: {}\".format(len(h.terms)))\n",
    "for force in f_op:\n",
    "    print(\"Number of pauli-words in the force: {}\".format(len(force.terms)))\n",
    "    common = 0\n",
    "    for key in force.terms.keys():\n",
    "        if key in h.terms.keys():\n",
    "            common += 1\n",
    "    print(\"Number of pauli-words in common with hamiltonian {}\".format(common))"
   ]
  },
  {
   "cell_type": "markdown",
   "id": "95c734c2-c953-46ed-81aa-67d0d247ffc8",
   "metadata": {},
   "source": [
    "We can now evaluate the force operators with the FCI state."
   ]
  },
  {
   "cell_type": "code",
   "execution_count": 9,
   "id": "0aa34f1c-e896-40fb-a4ad-2674c346fa66",
   "metadata": {},
   "outputs": [
    {
     "name": "stdout",
     "output_type": "stream",
     "text": [
      "[(3.2052659771623217e-16-6.162975822039155e-32j), (3.2305027992492573e-16-2.2186712959340957e-31j), (-0.005969170542868473+8.673617379884035e-19j), (-3.20526597716232e-16+1.1709654061874394e-31j), (-3.2305027992492553e-16+2.9582283945787943e-31j), (0.005969170542868684-8.673617379884035e-19j)]\n"
     ]
    }
   ],
   "source": [
    "f_op_hf_eval=[]\n",
    "for force in f_op_hf:\n",
    "    if len(force.terms)==0:\n",
    "        f_op_hf_eval.append(0.)\n",
    "    else:\n",
    "        f_op_hf_eval.append(of.expectation(of.get_sparse_operator(force), eigv))\n",
    "print(f_op_hf_eval)\n",
    "f_op_hf_eval = [val.real if np.abs(val) > 1e-8 else 0 for val in f_op_hf_eval]"
   ]
  },
  {
   "cell_type": "code",
   "execution_count": 10,
   "id": "fd2fa8f4-bfb5-485a-80d4-d30ff87a0345",
   "metadata": {},
   "outputs": [
    {
     "name": "stdout",
     "output_type": "stream",
     "text": [
      "[(2.322452563472421e-16+3.7594152514438844e-31j), (2.3519474845449173e-16+1.8488927466117464e-31j), (0.03350041368950895-1.734723475976807e-18j), (-2.3224525634724164e-16-2.9582283945787943e-31j), (-2.351947484544909e-16+9.860761315262648e-32j), (-0.033500413689508804-3.469446951953614e-18j)]\n"
     ]
    }
   ],
   "source": [
    "f_op_eval=[]\n",
    "for force in f_op:\n",
    "    if len(force.terms)==0:\n",
    "        f_op_eval.append(0.)\n",
    "    else:\n",
    "        f_op_eval.append(of.expectation(of.get_sparse_operator(force), eigv))\n",
    "print(f_op_eval)\n",
    "f_op_eval = [val.real if np.abs(val) > 1e-8 else 0 for val in f_op_eval]"
   ]
  },
  {
   "cell_type": "markdown",
   "id": "1d91f9f8-e7cc-4b06-ad30-7bc0750e1836",
   "metadata": {},
   "source": [
    "How do the numerical and analytical result for Hellman-Feynman compare? Can you improve the agreement? \n",
    "\n",
    "Are the Pulay terms negligible?"
   ]
  },
  {
   "cell_type": "code",
   "execution_count": 11,
   "id": "a482e404-d570-4f73-9001-884beb3562dd",
   "metadata": {},
   "outputs": [
    {
     "name": "stdout",
     "output_type": "stream",
     "text": [
      "Hellman-Feynman evaluated through finite differences [0.0, 0.0, 0.06101320993655044, 0.0, 0.0, -0.06101321009632643]\n",
      "Hellman-Feynman evaluated analytically [0, 0, -0.005969170542868473, 0, 0, 0.005969170542868684]\n",
      "Full force evaluated analytically [0, 0, 0.03350041368950895, 0, 0, -0.033500413689508804]\n"
     ]
    }
   ],
   "source": [
    "print(\"Hellman-Feynman evaluated through finite differences {}\".format(f_eval))\n",
    "print(\"Hellman-Feynman evaluated analytically {}\".format(f_op_hf_eval))\n",
    "print(\"Full force evaluated analytically {}\".format(f_op_eval))\n"
   ]
  },
  {
   "cell_type": "markdown",
   "id": "7d860ae4-b3ef-4f81-936c-2a56f1c4ba5e",
   "metadata": {},
   "source": [
    "Most qchem packages have a method to perform analytical gradients without going over operators. For this system, a CASSCF(6,4) calculation is equivalent to FCI and we can obtain the analytical gradient in a different way."
   ]
  },
  {
   "cell_type": "code",
   "execution_count": 25,
   "id": "4e6c517e-1665-47ce-9c8c-cb0fbde2caef",
   "metadata": {},
   "outputs": [
    {
     "name": "stdout",
     "output_type": "stream",
     "text": [
      "CASSCF energy = -7.87845365227714\n",
      "CASCI E = -7.87845365227714  E(CI) = -9.01240481853429  S^2 = 0.0000000\n"
     ]
    }
   ],
   "source": [
    "fci = mcscf.CASSCF(mf, 6, 4).run()\n",
    "fci.nuc_grad_method().kernel()"
   ]
  }
 ],
 "metadata": {
  "kernelspec": {
   "display_name": "tutorial",
   "language": "python",
   "name": "tutorial"
  },
  "language_info": {
   "codemirror_mode": {
    "name": "ipython",
    "version": 3
   },
   "file_extension": ".py",
   "mimetype": "text/x-python",
   "name": "python",
   "nbconvert_exporter": "python",
   "pygments_lexer": "ipython3",
   "version": "3.9.13"
  }
 },
 "nbformat": 4,
 "nbformat_minor": 5
}
