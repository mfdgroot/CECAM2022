{
 "cells": [
  {
   "cell_type": "code",
   "execution_count": 5,
   "id": "7ba1d2bb-fec3-4e0b-847a-6f2cb821021a",
   "metadata": {},
   "outputs": [
    {
     "name": "stdout",
     "output_type": "stream",
     "text": [
      "The autoreload extension is already loaded. To reload it, use:\n",
      "  %reload_ext autoreload\n"
     ]
    }
   ],
   "source": [
    "import pyscf\n",
    "from pyscf import mcscf\n",
    "import scipy.sparse\n",
    "import openfermion as of\n",
    "import numpy as np\n",
    "from openfermionpyscf._run_pyscf import run_pyscf\n",
    "from force_utility import gradient_mo_operator, get_lih, get_hf_fd\n",
    "%load_ext autoreload\n",
    "%autoreload 2"
   ]
  },
  {
   "cell_type": "markdown",
   "id": "76556c76-1e12-4a49-9c48-88ed41f8d014",
   "metadata": {
    "tags": []
   },
   "source": [
    "# The Hellman-Feynman force operator\n",
    "The Hellman-Feynman can be found as the derivative of the Hamiltonian matrix elements with respect to the position. We will use the example of $LiH$ and obtain the operator through finite differences and analytical derivation. "
   ]
  },
  {
   "cell_type": "code",
   "execution_count": 6,
   "id": "f7fce8ec-17de-400e-a5b7-190e4d3ceab0",
   "metadata": {},
   "outputs": [
    {
     "name": "stdout",
     "output_type": "stream",
     "text": [
      "converged SCF energy = -7.8605386610207\n",
      "converged SCF energy = -7.8605386610207\n",
      "converged SCF energy = -7.8605386610207\n",
      "converged SCF energy = -7.8605386610207\n",
      "converged SCF energy = -7.8605386610207\n",
      "converged SCF energy = -7.8605386610207\n",
      "FCI energy is -7.878453652277172\n"
     ]
    }
   ],
   "source": [
    "coords = [0, 0, 0, 0, 0, 1.4]\n",
    "#coords = [0, 0, 0, 0, 1.4, 1.4]/np.sqrt(2)\n",
    "delta = 1e-5\n",
    "occ = None\n",
    "act= None\n",
    "mol = get_lih(coords,'sto-3g')\n",
    "h = of.transforms.jordan_wigner(mol.get_molecular_hamiltonian(occupied_indices=occ,active_indices=act))\n",
    "eig, eigv = scipy.sparse.linalg.eigsh(of.get_sparse_operator(h), k=1, which='SA') \n",
    "f = get_hf_fd(coords, delta, 'sto-3g', occupied=occ, active=act)\n",
    "print(\"FCI energy is {}\".format(eig[0]))"
   ]
  },
  {
   "cell_type": "markdown",
   "id": "7e722eaa-6def-459c-88cd-7127e3431487",
   "metadata": {},
   "source": [
    "What can you tell about the difference between the number of terms in the Hamiltonian and forces? How many Pauli-words do they have in common? What does that mean for the measurements?"
   ]
  },
  {
   "cell_type": "code",
   "execution_count": 7,
   "id": "6915df87-711d-4b02-b6b9-e42aff58946c",
   "metadata": {},
   "outputs": [
    {
     "name": "stdout",
     "output_type": "stream",
     "text": [
      "Number of pauli-words in the hamiltonian: 631\n",
      "Number of pauli-words in the force: 897\n",
      "Number of pauli-words in common with hamiltonian 1\n",
      "Number of pauli-words in the force: 897\n",
      "Number of pauli-words in common with hamiltonian 1\n",
      "Number of pauli-words in the force: 621\n",
      "Number of pauli-words in common with hamiltonian 621\n",
      "Number of pauli-words in the force: 897\n",
      "Number of pauli-words in common with hamiltonian 1\n",
      "Number of pauli-words in the force: 897\n",
      "Number of pauli-words in common with hamiltonian 1\n",
      "Number of pauli-words in the force: 621\n",
      "Number of pauli-words in common with hamiltonian 621\n"
     ]
    }
   ],
   "source": [
    "print(\"Number of pauli-words in the hamiltonian: {}\".format(len(h.terms)))\n",
    "for force in f:\n",
    "    print(\"Number of pauli-words in the force: {}\".format(len(force.terms)))\n",
    "    common = 0\n",
    "    for key in force.terms.keys():\n",
    "        if key in h.terms.keys():\n",
    "            common += 1\n",
    "    print(\"Number of pauli-words in common with hamiltonian {}\".format(common))"
   ]
  },
  {
   "cell_type": "markdown",
   "id": "fa4dc8bf-b831-4a48-92ad-abe1931c43a1",
   "metadata": {},
   "source": [
    "We can now evaluate this operator with respect to the FCI state. What do you expect for the values of the forces? Will they be equal of different for the different atoms? What with the acceleration?"
   ]
  },
  {
   "cell_type": "code",
   "execution_count": 8,
   "id": "15c5e58a-58a8-4720-8e9b-255b27055583",
   "metadata": {},
   "outputs": [
    {
     "name": "stdout",
     "output_type": "stream",
     "text": [
      "Hamiltonian expectation: (-7.87845365227716+4.440892098500626e-16j), Hamiltonian eigenvalue: -7.878453652277172\n",
      "[(8.705475287582261e-16-1.232595164407831e-31j), (-7.505472048578799e-16+0j), (-0.011280097482221882+8.673617379884035e-19j), (-8.705475287582253e-16+9.860761315262648e-32j), (7.505472048578793e-16+1.1832913578315177e-30j), (0.011280097367202285-8.673617379884035e-19j)]\n"
     ]
    }
   ],
   "source": [
    "h_eval= of.expectation(of.get_sparse_operator(h), eigv)\n",
    "f_eval=[]\n",
    "for force in f:\n",
    "    if len(force.terms)==0:\n",
    "        f_eval.append(0.)\n",
    "    else:\n",
    "        f_eval.append(of.expectation(of.get_sparse_operator(force), eigv))\n",
    "print(\"Hamiltonian expectation: {}, Hamiltonian eigenvalue: {}\".format(h_eval,eig[0]))\n",
    "print(f_eval)\n",
    "f_eval = [val.real for val in f_eval]"
   ]
  },
  {
   "cell_type": "markdown",
   "id": "247f091a-88ac-487a-852a-363fb39975de",
   "metadata": {},
   "source": [
    "Rotate the geometry by 45 degrees and repeat the excercise. What do you see?"
   ]
  },
  {
   "cell_type": "markdown",
   "id": "84d03186-09fd-4530-a21b-d96a20b1181f",
   "metadata": {
    "tags": []
   },
   "source": [
    "# Force operators\n",
    "We will now evaluate the force operators through the analytical formulas both with and without Pulay terms."
   ]
  },
  {
   "cell_type": "code",
   "execution_count": 9,
   "id": "becc97e7-31a5-4232-a969-3486368105e6",
   "metadata": {},
   "outputs": [
    {
     "name": "stdout",
     "output_type": "stream",
     "text": [
      "converged SCF energy = -7.8605386610207\n"
     ]
    }
   ],
   "source": [
    "oei, tei = mol.get_integrals()\n",
    "mymol = pyscf.gto.Mole(atom=[['Li', tuple(coords[0:3])],\n",
    "                           ['H', tuple(coords[3:6])]],\n",
    "                     basis = 'sto-3g')\n",
    "mymol.build()\n",
    "mf = pyscf.scf.RHF(mymol)\n",
    "mf.kernel()\n",
    "f_op = gradient_mo_operator(mymol, mf.mo_coeff, oei, tei)\n",
    "f_op = [of.transforms.jordan_wigner(force) for force in f_op]\n",
    "f_op_hf = gradient_mo_operator(mymol, mf.mo_coeff, oei, tei, with_pulay=False)\n",
    "f_op_hf = [of.transforms.jordan_wigner(force) for force in f_op_hf]\n"
   ]
  },
  {
   "cell_type": "markdown",
   "id": "3c53c6ea-132f-416d-8245-103afc5b4261",
   "metadata": {},
   "source": [
    "We can repeat the same analysis as before to see which terms are shared with the Hamiltonian. What do you notice? What does this mean for the cost of evaluation?\n",
    "\n",
    "Is the Hellman-Feynman operator consistent with the finite differences?"
   ]
  },
  {
   "cell_type": "code",
   "execution_count": 10,
   "id": "c13af931-8c08-4f8d-b662-5e6b8dac5579",
   "metadata": {},
   "outputs": [
    {
     "name": "stdout",
     "output_type": "stream",
     "text": [
      "Number of pauli-words in the hamiltonian: 631\n",
      "Number of pauli-words in the force: 897\n",
      "Number of pauli-words in common with hamiltonian 1\n",
      "Number of pauli-words in the force: 897\n",
      "Number of pauli-words in common with hamiltonian 1\n",
      "Number of pauli-words in the force: 621\n",
      "Number of pauli-words in common with hamiltonian 621\n",
      "Number of pauli-words in the force: 897\n",
      "Number of pauli-words in common with hamiltonian 1\n",
      "Number of pauli-words in the force: 897\n",
      "Number of pauli-words in common with hamiltonian 1\n",
      "Number of pauli-words in the force: 621\n",
      "Number of pauli-words in common with hamiltonian 621\n"
     ]
    }
   ],
   "source": [
    "print(\"Number of pauli-words in the hamiltonian: {}\".format(len(h.terms)))\n",
    "for force in f_op_hf:\n",
    "    print(\"Number of pauli-words in the force: {}\".format(len(force.terms)))\n",
    "    common = 0\n",
    "    large = 0\n",
    "    for key in force.terms.keys():\n",
    "        if key in h.terms.keys():\n",
    "            common += 1\n",
    "    print(\"Number of pauli-words in common with hamiltonian {}\".format(common))"
   ]
  },
  {
   "cell_type": "code",
   "execution_count": 11,
   "id": "b1ad987b-ca34-48c9-b074-7e9d60af188a",
   "metadata": {},
   "outputs": [
    {
     "name": "stdout",
     "output_type": "stream",
     "text": [
      "Number of pauli-words in the hamiltonian: 631\n",
      "Number of pauli-words in the force: 897\n",
      "Number of pauli-words in common with hamiltonian 1\n",
      "Number of pauli-words in the force: 897\n",
      "Number of pauli-words in common with hamiltonian 1\n",
      "Number of pauli-words in the force: 621\n",
      "Number of pauli-words in common with hamiltonian 621\n",
      "Number of pauli-words in the force: 897\n",
      "Number of pauli-words in common with hamiltonian 1\n",
      "Number of pauli-words in the force: 897\n",
      "Number of pauli-words in common with hamiltonian 1\n",
      "Number of pauli-words in the force: 621\n",
      "Number of pauli-words in common with hamiltonian 621\n"
     ]
    }
   ],
   "source": [
    "print(\"Number of pauli-words in the hamiltonian: {}\".format(len(h.terms)))\n",
    "for force in f_op:\n",
    "    print(\"Number of pauli-words in the force: {}\".format(len(force.terms)))\n",
    "    common = 0\n",
    "    for key in force.terms.keys():\n",
    "        if key in h.terms.keys():\n",
    "            common += 1\n",
    "    print(\"Number of pauli-words in common with hamiltonian {}\".format(common))"
   ]
  },
  {
   "cell_type": "markdown",
   "id": "95c734c2-c953-46ed-81aa-67d0d247ffc8",
   "metadata": {},
   "source": [
    "We can now evaluate the force operators with the FCI state."
   ]
  },
  {
   "cell_type": "code",
   "execution_count": 12,
   "id": "0aa34f1c-e896-40fb-a4ad-2674c346fa66",
   "metadata": {},
   "outputs": [
    {
     "name": "stdout",
     "output_type": "stream",
     "text": [
      "[(4.60673913253544e-16-3.0814879110195774e-32j), (-3.97172476540298e-16-1.9721522630525295e-31j), (-0.0059691705428689245-4.336808689942018e-19j), (-4.606739132535437e-16-7.549645381997965e-32j), (3.97172476540298e-16+1.9721522630525295e-31j), (0.0059691705428693235+0j)]\n"
     ]
    }
   ],
   "source": [
    "f_op_hf_eval=[]\n",
    "for force in f_op_hf:\n",
    "    if len(force.terms)==0:\n",
    "        f_op_hf_eval.append(0.)\n",
    "    else:\n",
    "        f_op_hf_eval.append(of.expectation(of.get_sparse_operator(force), eigv))\n",
    "print(f_op_hf_eval)\n",
    "f_op_hf_eval = [val.real if np.abs(val) > 1e-8 else 0 for val in f_op_hf_eval]"
   ]
  },
  {
   "cell_type": "code",
   "execution_count": 13,
   "id": "fd2fa8f4-bfb5-485a-80d4-d30ff87a0345",
   "metadata": {},
   "outputs": [
    {
     "name": "stdout",
     "output_type": "stream",
     "text": [
      "[(3.3915389167665497e-16+1.232595164407831e-32j), (-2.9744704982847267e-16+0j), (0.03350041368950822+0j), (-3.391538916766543e-16+1.494521636844495e-31j), (2.974470498284723e-16-2.9582283945787943e-31j), (-0.03350041368950797+0j)]\n"
     ]
    }
   ],
   "source": [
    "f_op_eval=[]\n",
    "for force in f_op:\n",
    "    if len(force.terms)==0:\n",
    "        f_op_eval.append(0.)\n",
    "    else:\n",
    "        f_op_eval.append(of.expectation(of.get_sparse_operator(force), eigv))\n",
    "print(f_op_eval)\n",
    "f_op_eval = [val.real if np.abs(val) > 1e-8 else 0 for val in f_op_eval]"
   ]
  },
  {
   "cell_type": "markdown",
   "id": "1d91f9f8-e7cc-4b06-ad30-7bc0750e1836",
   "metadata": {},
   "source": [
    "How do the numerical and analytical result for Hellman-Feynman compare? Can you improve the agreement? \n",
    "\n",
    "Are the Pulay terms negligible?"
   ]
  },
  {
   "cell_type": "code",
   "execution_count": 14,
   "id": "a482e404-d570-4f73-9001-884beb3562dd",
   "metadata": {},
   "outputs": [
    {
     "name": "stdout",
     "output_type": "stream",
     "text": [
      "Hellman-Feynman evaluated through finite differences [8.705475287582261e-16, -7.505472048578799e-16, -0.011280097482221882, -8.705475287582253e-16, 7.505472048578793e-16, 0.011280097367202285]\n",
      "Hellman-Feynman evaluated analytically [0, 0, -0.0059691705428689245, 0, 0, 0.0059691705428693235]\n",
      "Full force evaluated analytically [0, 0, 0.03350041368950822, 0, 0, -0.03350041368950797]\n"
     ]
    }
   ],
   "source": [
    "print(\"Hellman-Feynman evaluated through finite differences {}\".format(f_eval))\n",
    "print(\"Hellman-Feynman evaluated analytically {}\".format(f_op_hf_eval))\n",
    "print(\"Full force evaluated analytically {}\".format(f_op_eval))\n"
   ]
  },
  {
   "cell_type": "markdown",
   "id": "7d860ae4-b3ef-4f81-936c-2a56f1c4ba5e",
   "metadata": {},
   "source": [
    "Most qchem packages have a method to perform analytical gradients without going over operators. For this system, a CASSCF(6,4) calculation is equivalent to FCI and we can obtain the analytical gradient in a different way."
   ]
  },
  {
   "cell_type": "code",
   "execution_count": 15,
   "id": "4e6c517e-1665-47ce-9c8c-cb0fbde2caef",
   "metadata": {},
   "outputs": [
    {
     "name": "stdout",
     "output_type": "stream",
     "text": [
      "CASSCF energy = -7.87845365227714\n",
      "CASCI E = -7.87845365227714  E(CI) = -9.01240481853429  S^2 = 0.0000000\n",
      "--------------- CASSCF gradients ---------------\n",
      "         x                y                z\n",
      "0 Li    -0.0000000000    -0.0000000000     0.0335004137\n",
      "1 H     0.0000000000     0.0000000000    -0.0335004137\n",
      "----------------------------------------------\n"
     ]
    },
    {
     "data": {
      "text/plain": [
       "array([[-5.95066413e-18, -6.30267332e-18,  3.35004137e-02],\n",
       "       [ 5.95066413e-18,  6.30267332e-18, -3.35004137e-02]])"
      ]
     },
     "execution_count": 15,
     "metadata": {},
     "output_type": "execute_result"
    }
   ],
   "source": [
    "fci = mcscf.CASSCF(mf, 6, 4).run()\n",
    "fci.nuc_grad_method().kernel()"
   ]
  },
  {
   "cell_type": "markdown",
   "id": "ebe93867-e2ae-4ffa-be76-f6e7af2dbc64",
   "metadata": {},
   "source": [
    "# Difference with and without Pulay terms\n",
    "The Pulay terms stem from the fact that Gaussian basis functions are centered at the nucle. In principle, the Pulay terms should disappear when the basis size approaches the basis set limit. We'll use correlation consistent basis functions to systematically increase the basis size. We can no longer use FCI for the expectation values here and will construct the RHF rdm to do that. The calculation of the integrals for the derivatives might take a while."
   ]
  },
  {
   "cell_type": "code",
   "execution_count": 16,
   "id": "f18f8ca0-b166-4d59-9a0b-7134cc9d1c7c",
   "metadata": {},
   "outputs": [
    {
     "name": "stdout",
     "output_type": "stream",
     "text": [
      "converged SCF energy = -7.8605386610207\n",
      "For 6 spatial orbitals, the pulay forces have norm 0.06958084721938283\n",
      "converged SCF energy = -7.97072364400739\n",
      "For 11 spatial orbitals, the pulay forces have norm 0.036581788498768995\n",
      "converged SCF energy = -7.97804025395656\n",
      "For 16 spatial orbitals, the pulay forces have norm 0.041024551214650797\n"
     ]
    }
   ],
   "source": [
    "for basis in ['sto-3g', '6-31g', '6-311g']:\n",
    "    mymol = pyscf.gto.M(\n",
    "        atom = '''Li 0 0 0; H 0 0 1.4''',\n",
    "        basis = basis)\n",
    "\n",
    "    mymol.build()\n",
    "    mf = pyscf.scf.RHF(mymol)\n",
    "    mf.kernel()\n",
    "    molecule = of.MolecularData(geometry=mymol.atom, basis=mymol.basis,\n",
    "                                charge=0, multiplicity=1)\n",
    "    molecule = run_pyscf(molecule)\n",
    "    oei, tei = molecule.get_integrals()\n",
    "    f_op = gradient_mo_operator(mymol, mf.mo_coeff, oei, tei)\n",
    "    f_op_hf = gradient_mo_operator(mymol, mf.mo_coeff, oei, tei, with_pulay=False)\n",
    "    opdm = np.diag([1] * mymol.nelectron + [0] * (2 * mymol.nao - mymol.nelectron))\n",
    "    tpdm = 2 * of.wedge(opdm, opdm, (1, 1), (1, 1))\n",
    "    rdms = of.InteractionRDM(opdm, tpdm)\n",
    "    vector_expectation = np.vectorize(rdms.expectation)\n",
    "    f_op_eval = vector_expectation(f_op).real\n",
    "    f_op_hf_eval = vector_expectation(f_op_hf).real\n",
    "    print(f\"For {mymol.nao} spatial orbitals, the pulay forces have norm { np.linalg.norm(f_op_eval-f_op_hf_eval)}\")"
   ]
  },
  {
   "cell_type": "markdown",
   "id": "e2f617ef-7fb7-4af8-9ddf-e5ee01da040a",
   "metadata": {},
   "source": [
    "What is your conclusion? "
   ]
  },
  {
   "cell_type": "markdown",
   "id": "bb9987b2-88c5-4312-a197-16f0cc5d5f9a",
   "metadata": {},
   "source": [
    "Extra excercise: Apply one of the Izmaylov group's grouping methods to see how the performance is for forces."
   ]
  },
  {
   "cell_type": "code",
   "execution_count": null,
   "id": "717cb26b-1a2f-4e23-941c-109f9dc96917",
   "metadata": {},
   "outputs": [],
   "source": []
  }
 ],
 "metadata": {
  "kernelspec": {
   "display_name": "tutorial",
   "language": "python",
   "name": "tutorial"
  },
  "language_info": {
   "codemirror_mode": {
    "name": "ipython",
    "version": 3
   },
   "file_extension": ".py",
   "mimetype": "text/x-python",
   "name": "python",
   "nbconvert_exporter": "python",
   "pygments_lexer": "ipython3",
   "version": "3.9.13"
  }
 },
 "nbformat": 4,
 "nbformat_minor": 5
}
