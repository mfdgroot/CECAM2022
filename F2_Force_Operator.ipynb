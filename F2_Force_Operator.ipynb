{
 "cells": [
  {
   "cell_type": "code",
   "execution_count": 1,
   "id": "7ba1d2bb-fec3-4e0b-847a-6f2cb821021a",
   "metadata": {},
   "outputs": [],
   "source": [
    "import pyscf\n",
    "from pyscf import mcscf\n",
    "import scipy.sparse\n",
    "import openfermion as of\n",
    "import numpy as np\n",
    "from openfermionpyscf._run_pyscf import run_pyscf\n",
    "from force_utility import gradient_mo_operator, get_lih, get_hf_fd\n"
   ]
  },
  {
   "cell_type": "markdown",
   "id": "76556c76-1e12-4a49-9c48-88ed41f8d014",
   "metadata": {
    "tags": []
   },
   "source": [
    "# The Hellman-Feynman force operator\n",
    "The Hellman-Feynman can be found as the derivative of the Hamiltonian matrix elements with respect to the position. We will use the example of $LiH$ and obtain the operator through finite differences and analytical derivation. "
   ]
  },
  {
   "cell_type": "code",
   "execution_count": 2,
   "id": "f7fce8ec-17de-400e-a5b7-190e4d3ceab0",
   "metadata": {},
   "outputs": [
    {
     "name": "stdout",
     "output_type": "stream",
     "text": [
      "FCI energy is -7.878453652277175\n"
     ]
    }
   ],
   "source": [
    "coords = [0, 0, 0, 0, 0, 1.4]\n",
    "#coords = [0, 0, 0, 0, 1.4, 1.4]/np.sqrt(2)\n",
    "delta = 1e-5\n",
    "occ = None\n",
    "act= None\n",
    "mol = get_lih(coords,'sto-3g')\n",
    "h = of.transforms.jordan_wigner(mol.get_molecular_hamiltonian(occupied_indices=occ,active_indices=act))\n",
    "eig, eigv = scipy.sparse.linalg.eigsh(of.get_sparse_operator(h), k=1, which='SA') \n",
    "f = get_hf_fd(coords, delta, 'sto-3g', occupied=occ, active=act)\n",
    "print(\"FCI energy is {}\".format(eig[0]))"
   ]
  },
  {
   "cell_type": "markdown",
   "id": "7e722eaa-6def-459c-88cd-7127e3431487",
   "metadata": {},
   "source": [
    "What can you tell about the difference between the number of terms in the Hamiltonian and forces? How many Pauli-words do they have in common? What does that mean for the measurements?"
   ]
  },
  {
   "cell_type": "code",
   "execution_count": 3,
   "id": "6915df87-711d-4b02-b6b9-e42aff58946c",
   "metadata": {},
   "outputs": [
    {
     "name": "stdout",
     "output_type": "stream",
     "text": [
      "Number of pauli-words in the hamiltonian: 631\n",
      "Number of pauli-words in the force: 0\n",
      "Number of pauli-words in common with hamiltonian 0\n",
      "Number of pauli-words in the force: 0\n",
      "Number of pauli-words in common with hamiltonian 0\n",
      "Number of pauli-words in the force: 467\n",
      "Number of pauli-words in common with hamiltonian 467\n",
      "Number of pauli-words in the force: 0\n",
      "Number of pauli-words in common with hamiltonian 0\n",
      "Number of pauli-words in the force: 0\n",
      "Number of pauli-words in common with hamiltonian 0\n",
      "Number of pauli-words in the force: 467\n",
      "Number of pauli-words in common with hamiltonian 467\n"
     ]
    }
   ],
   "source": [
    "print(\"Number of pauli-words in the hamiltonian: {}\".format(len(h.terms)))\n",
    "for force in f:\n",
    "    print(\"Number of pauli-words in the force: {}\".format(len(force.terms)))\n",
    "    common = 0\n",
    "    for key in force.terms.keys():\n",
    "        if key in h.terms.keys():\n",
    "            common += 1\n",
    "    print(\"Number of pauli-words in common with hamiltonian {}\".format(common))"
   ]
  },
  {
   "cell_type": "markdown",
   "id": "fa4dc8bf-b831-4a48-92ad-abe1931c43a1",
   "metadata": {},
   "source": [
    "We can now evaluate this operator with respect to the FCI state. What do you expect for the values of the forces? Will they be equal of different for the different atoms? What with the acceleration?"
   ]
  },
  {
   "cell_type": "code",
   "execution_count": 4,
   "id": "15c5e58a-58a8-4720-8e9b-255b27055583",
   "metadata": {},
   "outputs": [
    {
     "name": "stdout",
     "output_type": "stream",
     "text": [
      "Hamiltonian expectation: (-7.878453652277165-1.1102230246251565e-16j), Hamiltonian eigenvalue: -7.878453652277175\n",
      "[0.0, 0.0, (0.06101321019214341+0j), 0.0, 0.0, (-0.0610132099441757+0j)]\n"
     ]
    }
   ],
   "source": [
    "h_eval= of.expectation(of.get_sparse_operator(h), eigv)\n",
    "f_eval=[]\n",
    "for force in f:\n",
    "    if len(force.terms)==0:\n",
    "        f_eval.append(0.)\n",
    "    else:\n",
    "        f_eval.append(of.expectation(of.get_sparse_operator(force), eigv))\n",
    "print(\"Hamiltonian expectation: {}, Hamiltonian eigenvalue: {}\".format(h_eval,eig[0]))\n",
    "print(f_eval)\n",
    "f_eval = [val.real for val in f_eval]"
   ]
  },
  {
   "cell_type": "markdown",
   "id": "247f091a-88ac-487a-852a-363fb39975de",
   "metadata": {},
   "source": [
    "Rotate the geometry by 45 degrees and repeat the excercise. What do you see?"
   ]
  },
  {
   "cell_type": "markdown",
   "id": "84d03186-09fd-4530-a21b-d96a20b1181f",
   "metadata": {
    "tags": []
   },
   "source": [
    "# Force operators\n",
    "We will now evaluate the force operators through the analytical formulas both with and without Pulay terms."
   ]
  },
  {
   "cell_type": "code",
   "execution_count": 5,
   "id": "becc97e7-31a5-4232-a969-3486368105e6",
   "metadata": {},
   "outputs": [
    {
     "name": "stdout",
     "output_type": "stream",
     "text": [
      "converged SCF energy = -7.8605386610207\n"
     ]
    }
   ],
   "source": [
    "oei, tei = mol.get_integrals()\n",
    "mymol = pyscf.gto.Mole(atom=[['Li', tuple(coords[0:3])],\n",
    "                           ['H', tuple(coords[3:6])]],\n",
    "                     basis = 'sto-3g')\n",
    "mymol.build()\n",
    "mf = pyscf.scf.RHF(mymol)\n",
    "mf.kernel()\n",
    "f_op = gradient_mo_operator(mymol, mf.mo_coeff, oei, tei)\n",
    "f_op = [of.transforms.jordan_wigner(force) for force in f_op]\n",
    "f_op_hf = gradient_mo_operator(mymol, mf.mo_coeff, oei, tei, with_pulay=False)\n",
    "f_op_hf = [of.transforms.jordan_wigner(force) for force in f_op_hf]\n"
   ]
  },
  {
   "cell_type": "markdown",
   "id": "3c53c6ea-132f-416d-8245-103afc5b4261",
   "metadata": {},
   "source": [
    "We can repeat the same analysis as before to see which terms are shared with the Hamiltonian. What do you notice? What does this mean for the cost of evaluation?\n",
    "\n",
    "Why is the Hellman-Feynman operator not the same as the finite differences? Who is right?"
   ]
  },
  {
   "cell_type": "code",
   "execution_count": 6,
   "id": "c13af931-8c08-4f8d-b662-5e6b8dac5579",
   "metadata": {},
   "outputs": [
    {
     "name": "stdout",
     "output_type": "stream",
     "text": [
      "Number of pauli-words in the hamiltonian: 631\n",
      "Number of pauli-words in the force: 897\n",
      "Number of pauli-words in common with hamiltonian 1\n",
      "Number of pauli-words in the force: 897\n",
      "Number of pauli-words in common with hamiltonian 1\n",
      "Number of pauli-words in the force: 621\n",
      "Number of pauli-words in common with hamiltonian 621\n",
      "Number of pauli-words in the force: 897\n",
      "Number of pauli-words in common with hamiltonian 1\n",
      "Number of pauli-words in the force: 897\n",
      "Number of pauli-words in common with hamiltonian 1\n",
      "Number of pauli-words in the force: 621\n",
      "Number of pauli-words in common with hamiltonian 621\n"
     ]
    }
   ],
   "source": [
    "print(\"Number of pauli-words in the hamiltonian: {}\".format(len(h.terms)))\n",
    "for force in f_op_hf:\n",
    "    print(\"Number of pauli-words in the force: {}\".format(len(force.terms)))\n",
    "    common = 0\n",
    "    large = 0\n",
    "    for key in force.terms.keys():\n",
    "        if key in h.terms.keys():\n",
    "            common += 1\n",
    "    print(\"Number of pauli-words in common with hamiltonian {}\".format(common))"
   ]
  },
  {
   "cell_type": "code",
   "execution_count": 7,
   "id": "b1ad987b-ca34-48c9-b074-7e9d60af188a",
   "metadata": {},
   "outputs": [
    {
     "name": "stdout",
     "output_type": "stream",
     "text": [
      "Number of pauli-words in the hamiltonian: 631\n",
      "Number of pauli-words in the force: 897\n",
      "Number of pauli-words in common with hamiltonian 1\n",
      "Number of pauli-words in the force: 897\n",
      "Number of pauli-words in common with hamiltonian 1\n",
      "Number of pauli-words in the force: 621\n",
      "Number of pauli-words in common with hamiltonian 621\n",
      "Number of pauli-words in the force: 897\n",
      "Number of pauli-words in common with hamiltonian 1\n",
      "Number of pauli-words in the force: 897\n",
      "Number of pauli-words in common with hamiltonian 1\n",
      "Number of pauli-words in the force: 621\n",
      "Number of pauli-words in common with hamiltonian 621\n"
     ]
    }
   ],
   "source": [
    "print(\"Number of pauli-words in the hamiltonian: {}\".format(len(h.terms)))\n",
    "for force in f_op:\n",
    "    print(\"Number of pauli-words in the force: {}\".format(len(force.terms)))\n",
    "    common = 0\n",
    "    for key in force.terms.keys():\n",
    "        if key in h.terms.keys():\n",
    "            common += 1\n",
    "    print(\"Number of pauli-words in common with hamiltonian {}\".format(common))"
   ]
  },
  {
   "cell_type": "markdown",
   "id": "95c734c2-c953-46ed-81aa-67d0d247ffc8",
   "metadata": {},
   "source": [
    "We can now evaluate the force operators with the FCI state."
   ]
  },
  {
   "cell_type": "code",
   "execution_count": 8,
   "id": "0aa34f1c-e896-40fb-a4ad-2674c346fa66",
   "metadata": {},
   "outputs": [
    {
     "name": "stdout",
     "output_type": "stream",
     "text": [
      "[(6.885385371518268e-17-1.3404472412935162e-31j), (1.7478264414100524e-16+9.860761315262648e-32j), (-0.005969170542868457-2.168404344971009e-19j), (-6.885385371518268e-17+4.468157470978387e-32j), (-1.7478264414100504e-16+2.465190328815662e-32j), (0.005969170542868853+1.0842021724855044e-19j)]\n"
     ]
    }
   ],
   "source": [
    "f_op_hf_eval=[]\n",
    "for force in f_op_hf:\n",
    "    if len(force.terms)==0:\n",
    "        f_op_hf_eval.append(0.)\n",
    "    else:\n",
    "        f_op_hf_eval.append(of.expectation(of.get_sparse_operator(force), eigv))\n",
    "print(f_op_hf_eval)\n",
    "f_op_hf_eval = [val.real if np.abs(val) > 1e-8 else 0 for val in f_op_hf_eval]"
   ]
  },
  {
   "cell_type": "code",
   "execution_count": 9,
   "id": "fd2fa8f4-bfb5-485a-80d4-d30ff87a0345",
   "metadata": {},
   "outputs": [
    {
     "name": "stdout",
     "output_type": "stream",
     "text": [
      "[(5.5433385078406416e-17-2.3881531310401725e-32j), (1.3634703966827063e-16-4.930380657631324e-32j), (0.033500413689508894+0j), (-5.5433385078406287e-17-3.1970437076828115e-32j), (-1.3634703966827048e-16+2.465190328815662e-32j), (-0.033500413689508644+4.336808689942018e-19j)]\n"
     ]
    }
   ],
   "source": [
    "f_op_eval=[]\n",
    "for force in f_op:\n",
    "    if len(force.terms)==0:\n",
    "        f_op_eval.append(0.)\n",
    "    else:\n",
    "        f_op_eval.append(of.expectation(of.get_sparse_operator(force), eigv))\n",
    "print(f_op_eval)\n",
    "f_op_eval = [val.real if np.abs(val) > 1e-8 else 0 for val in f_op_eval]"
   ]
  },
  {
   "cell_type": "markdown",
   "id": "1d91f9f8-e7cc-4b06-ad30-7bc0750e1836",
   "metadata": {},
   "source": [
    "How do the numerical and analytical result for Hellman-Feynman compare? Can you improve the agreement? \n",
    "\n",
    "Are the Pulay terms negligible?"
   ]
  },
  {
   "cell_type": "code",
   "execution_count": 10,
   "id": "a482e404-d570-4f73-9001-884beb3562dd",
   "metadata": {},
   "outputs": [
    {
     "name": "stdout",
     "output_type": "stream",
     "text": [
      "Hellman-Feynman evaluated through finite differences [0.0, 0.0, 0.06101321019214341, 0.0, 0.0, -0.0610132099441757]\n",
      "Hellman-Feynman evaluated analytically [0, 0, -0.005969170542868457, 0, 0, 0.005969170542868853]\n",
      "Full force evaluated analytically [0, 0, 0.033500413689508894, 0, 0, -0.033500413689508644]\n"
     ]
    }
   ],
   "source": [
    "print(\"Hellman-Feynman evaluated through finite differences {}\".format(f_eval))\n",
    "print(\"Hellman-Feynman evaluated analytically {}\".format(f_op_hf_eval))\n",
    "print(\"Full force evaluated analytically {}\".format(f_op_eval))\n"
   ]
  },
  {
   "cell_type": "markdown",
   "id": "7d860ae4-b3ef-4f81-936c-2a56f1c4ba5e",
   "metadata": {},
   "source": [
    "Most qchem packages have a method to perform analytical gradients without going over operators. For this system, a CASSCF(6,4) calculation is equivalent to FCI and we can obtain the analytical gradient in a different way."
   ]
  },
  {
   "cell_type": "code",
   "execution_count": 11,
   "id": "4e6c517e-1665-47ce-9c8c-cb0fbde2caef",
   "metadata": {},
   "outputs": [
    {
     "name": "stdout",
     "output_type": "stream",
     "text": [
      "CASSCF energy = -7.87845365227714\n",
      "CASCI E = -7.87845365227714  E(CI) = -9.01240481853429  S^2 = 0.0000000\n",
      "--------------- CASSCF gradients ---------------\n",
      "         x                y                z\n",
      "0 Li    -0.0000000000    -0.0000000000     0.0335004137\n",
      "1 H     0.0000000000     0.0000000000    -0.0335004137\n",
      "----------------------------------------------\n"
     ]
    },
    {
     "data": {
      "text/plain": [
       "array([[-5.76646563e-18, -6.55079207e-18,  3.35004137e-02],\n",
       "       [ 5.76646563e-18,  6.55079207e-18, -3.35004137e-02]])"
      ]
     },
     "execution_count": 11,
     "metadata": {},
     "output_type": "execute_result"
    }
   ],
   "source": [
    "fci = mcscf.CASSCF(mf, 6, 4).run()\n",
    "fci.nuc_grad_method().kernel()"
   ]
  },
  {
   "cell_type": "markdown",
   "id": "ebe93867-e2ae-4ffa-be76-f6e7af2dbc64",
   "metadata": {},
   "source": [
    "# Difference with and without Pulay terms\n",
    "The Pulay terms stem from the fact that Gaussian basis functions are centered at the nucle. In principle, the Pulay terms should disappear when the basis size approaches the basis set limit. We'll use correlation consistent basis functions to systematically increase the basis size. We can no longer use FCI for the expectation values here and will construct the RHF rdm to do that. The calculation of the integrals for the derivatives might take a while."
   ]
  },
  {
   "cell_type": "code",
   "execution_count": 13,
   "id": "f18f8ca0-b166-4d59-9a0b-7134cc9d1c7c",
   "metadata": {},
   "outputs": [
    {
     "name": "stdout",
     "output_type": "stream",
     "text": [
      "converged SCF energy = -7.8605386610207\n",
      "For 6 spatial orbitals, the pulay forces have norm 0.06958084721938283\n",
      "converged SCF energy = -7.97072364400739\n",
      "For 11 spatial orbitals, the pulay forces have norm 0.036581788498768995\n",
      "converged SCF energy = -7.97804025395656\n",
      "For 16 spatial orbitals, the pulay forces have norm 0.041024551214650797\n"
     ]
    }
   ],
   "source": [
    "for basis in ['sto-3g', '6-31g', '6-311g']:\n",
    "    mymol = pyscf.gto.M(\n",
    "        atom = '''Li 0 0 0; H 0 0 1.4''',\n",
    "        basis = basis)\n",
    "\n",
    "    mymol.build()\n",
    "    mf = pyscf.scf.RHF(mymol)\n",
    "    mf.kernel()\n",
    "    molecule = of.MolecularData(geometry=mymol.atom, basis=mymol.basis,\n",
    "                                charge=0, multiplicity=1)\n",
    "    molecule = run_pyscf(molecule)\n",
    "    oei, tei = molecule.get_integrals()\n",
    "    f_op = gradient_mo_operator(mymol, mf.mo_coeff, oei, tei)\n",
    "    f_op_hf = gradient_mo_operator(mymol, mf.mo_coeff, oei, tei, with_pulay=False)\n",
    "    opdm = np.diag([1] * mymol.nelectron + [0] * (2 * mymol.nao - mymol.nelectron))\n",
    "    tpdm = 2 * of.wedge(opdm, opdm, (1, 1), (1, 1))\n",
    "    rdms = of.InteractionRDM(opdm, tpdm)\n",
    "    vector_expectation = np.vectorize(rdms.expectation)\n",
    "    f_op_eval = vector_expectation(f_op).real\n",
    "    f_op_hf_eval = vector_expectation(f_op_hf).real\n",
    "    print(f\"For {mymol.nao} spatial orbitals, the pulay forces have norm { np.linalg.norm(f_op_eval-f_op_hf_eval)}\")"
   ]
  },
  {
   "cell_type": "markdown",
   "id": "e2f617ef-7fb7-4af8-9ddf-e5ee01da040a",
   "metadata": {},
   "source": [
    "What is your conclusion? "
   ]
  }
 ],
 "metadata": {
  "kernelspec": {
   "display_name": "tutorial",
   "language": "python",
   "name": "tutorial"
  },
  "language_info": {
   "codemirror_mode": {
    "name": "ipython",
    "version": 3
   },
   "file_extension": ".py",
   "mimetype": "text/x-python",
   "name": "python",
   "nbconvert_exporter": "python",
   "pygments_lexer": "ipython3",
   "version": "3.9.13"
  }
 },
 "nbformat": 4,
 "nbformat_minor": 5
}
